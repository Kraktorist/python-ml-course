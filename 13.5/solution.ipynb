{
 "cells": [
  {
   "cell_type": "code",
   "execution_count": 2,
   "id": "1821602a",
   "metadata": {},
   "outputs": [],
   "source": [
    "import pandas as pd\n",
    "import geopy.distance"
   ]
  },
  {
   "cell_type": "code",
   "execution_count": 143,
   "id": "df0dd32d",
   "metadata": {
    "scrolled": true
   },
   "outputs": [
    {
     "data": {
      "text/html": [
       "<div>\n",
       "<style scoped>\n",
       "    .dataframe tbody tr th:only-of-type {\n",
       "        vertical-align: middle;\n",
       "    }\n",
       "\n",
       "    .dataframe tbody tr th {\n",
       "        vertical-align: top;\n",
       "    }\n",
       "\n",
       "    .dataframe thead th {\n",
       "        text-align: right;\n",
       "    }\n",
       "</style>\n",
       "<table border=\"1\" class=\"dataframe\">\n",
       "  <thead>\n",
       "    <tr style=\"text-align: right;\">\n",
       "      <th></th>\n",
       "      <th>tripduration</th>\n",
       "      <th>starttime</th>\n",
       "      <th>stoptime</th>\n",
       "      <th>start station id</th>\n",
       "      <th>start station name</th>\n",
       "      <th>start station latitude</th>\n",
       "      <th>start station longitude</th>\n",
       "      <th>end station id</th>\n",
       "      <th>end station name</th>\n",
       "      <th>end station latitude</th>\n",
       "      <th>end station longitude</th>\n",
       "      <th>bikeid</th>\n",
       "      <th>usertype</th>\n",
       "      <th>birth year</th>\n",
       "      <th>gender</th>\n",
       "    </tr>\n",
       "  </thead>\n",
       "  <tbody>\n",
       "    <tr>\n",
       "      <th>0</th>\n",
       "      <td>1635</td>\n",
       "      <td>2018-09-01 00:00:05.269</td>\n",
       "      <td>2018-09-01 00:27:20.634</td>\n",
       "      <td>252</td>\n",
       "      <td>MacDougal St &amp; Washington Sq</td>\n",
       "      <td>40.732264</td>\n",
       "      <td>-73.998522</td>\n",
       "      <td>366</td>\n",
       "      <td>Clinton Ave &amp; Myrtle Ave</td>\n",
       "      <td>40.693261</td>\n",
       "      <td>-73.968896</td>\n",
       "      <td>25577</td>\n",
       "      <td>Subscriber</td>\n",
       "      <td>1980</td>\n",
       "      <td>1</td>\n",
       "    </tr>\n",
       "    <tr>\n",
       "      <th>1</th>\n",
       "      <td>132</td>\n",
       "      <td>2018-09-01 00:00:11.281</td>\n",
       "      <td>2018-09-01 00:02:23.481</td>\n",
       "      <td>314</td>\n",
       "      <td>Cadman Plaza West &amp; Montague St</td>\n",
       "      <td>40.693830</td>\n",
       "      <td>-73.990539</td>\n",
       "      <td>3242</td>\n",
       "      <td>Schermerhorn St &amp; Court St</td>\n",
       "      <td>40.691029</td>\n",
       "      <td>-73.991834</td>\n",
       "      <td>34377</td>\n",
       "      <td>Subscriber</td>\n",
       "      <td>1969</td>\n",
       "      <td>0</td>\n",
       "    </tr>\n",
       "    <tr>\n",
       "      <th>2</th>\n",
       "      <td>3337</td>\n",
       "      <td>2018-09-01 00:00:20.649</td>\n",
       "      <td>2018-09-01 00:55:58.547</td>\n",
       "      <td>3142</td>\n",
       "      <td>1 Ave &amp; E 62 St</td>\n",
       "      <td>40.761227</td>\n",
       "      <td>-73.960940</td>\n",
       "      <td>3384</td>\n",
       "      <td>Smith St &amp; 3 St</td>\n",
       "      <td>40.678724</td>\n",
       "      <td>-73.995991</td>\n",
       "      <td>30496</td>\n",
       "      <td>Subscriber</td>\n",
       "      <td>1975</td>\n",
       "      <td>1</td>\n",
       "    </tr>\n",
       "    <tr>\n",
       "      <th>3</th>\n",
       "      <td>436</td>\n",
       "      <td>2018-09-01 00:00:21.746</td>\n",
       "      <td>2018-09-01 00:07:38.583</td>\n",
       "      <td>308</td>\n",
       "      <td>St James Pl &amp; Oliver St</td>\n",
       "      <td>40.713079</td>\n",
       "      <td>-73.998512</td>\n",
       "      <td>3690</td>\n",
       "      <td>Park Pl &amp; Church St</td>\n",
       "      <td>40.713342</td>\n",
       "      <td>-74.009355</td>\n",
       "      <td>28866</td>\n",
       "      <td>Subscriber</td>\n",
       "      <td>1984</td>\n",
       "      <td>2</td>\n",
       "    </tr>\n",
       "    <tr>\n",
       "      <th>4</th>\n",
       "      <td>8457</td>\n",
       "      <td>2018-09-01 00:00:27.315</td>\n",
       "      <td>2018-09-01 02:21:25.308</td>\n",
       "      <td>345</td>\n",
       "      <td>W 13 St &amp; 6 Ave</td>\n",
       "      <td>40.736494</td>\n",
       "      <td>-73.997044</td>\n",
       "      <td>380</td>\n",
       "      <td>W 4 St &amp; 7 Ave S</td>\n",
       "      <td>40.734011</td>\n",
       "      <td>-74.002939</td>\n",
       "      <td>20943</td>\n",
       "      <td>Customer</td>\n",
       "      <td>1994</td>\n",
       "      <td>1</td>\n",
       "    </tr>\n",
       "  </tbody>\n",
       "</table>\n",
       "</div>"
      ],
      "text/plain": [
       "   tripduration               starttime                stoptime  \\\n",
       "0          1635 2018-09-01 00:00:05.269 2018-09-01 00:27:20.634   \n",
       "1           132 2018-09-01 00:00:11.281 2018-09-01 00:02:23.481   \n",
       "2          3337 2018-09-01 00:00:20.649 2018-09-01 00:55:58.547   \n",
       "3           436 2018-09-01 00:00:21.746 2018-09-01 00:07:38.583   \n",
       "4          8457 2018-09-01 00:00:27.315 2018-09-01 02:21:25.308   \n",
       "\n",
       "   start station id               start station name  start station latitude  \\\n",
       "0               252     MacDougal St & Washington Sq               40.732264   \n",
       "1               314  Cadman Plaza West & Montague St               40.693830   \n",
       "2              3142                  1 Ave & E 62 St               40.761227   \n",
       "3               308          St James Pl & Oliver St               40.713079   \n",
       "4               345                  W 13 St & 6 Ave               40.736494   \n",
       "\n",
       "   start station longitude  end station id            end station name  \\\n",
       "0               -73.998522             366    Clinton Ave & Myrtle Ave   \n",
       "1               -73.990539            3242  Schermerhorn St & Court St   \n",
       "2               -73.960940            3384             Smith St & 3 St   \n",
       "3               -73.998512            3690         Park Pl & Church St   \n",
       "4               -73.997044             380            W 4 St & 7 Ave S   \n",
       "\n",
       "   end station latitude  end station longitude  bikeid    usertype  \\\n",
       "0             40.693261             -73.968896   25577  Subscriber   \n",
       "1             40.691029             -73.991834   34377  Subscriber   \n",
       "2             40.678724             -73.995991   30496  Subscriber   \n",
       "3             40.713342             -74.009355   28866  Subscriber   \n",
       "4             40.734011             -74.002939   20943    Customer   \n",
       "\n",
       "   birth year  gender  \n",
       "0        1980       1  \n",
       "1        1969       0  \n",
       "2        1975       1  \n",
       "3        1984       2  \n",
       "4        1994       1  "
      ]
     },
     "execution_count": 143,
     "metadata": {},
     "output_type": "execute_result"
    }
   ],
   "source": [
    "# df = pd.read_csv(\"201809-citibike-tripdata.csv\")\n",
    "df = pd.read_csv(\"201809-citibike-tripdata.csv\",  parse_dates=[1,2], dtype={\"start station id\": \"Int64\", \"end station id\": \"Int64\"})\n",
    "df.head(5)"
   ]
  },
  {
   "cell_type": "markdown",
   "id": "38720890",
   "metadata": {},
   "source": [
    "### 13.5.3 Найти общее количество строк и столбцов в датасете - указать первым число строк, вторым - число столбцов"
   ]
  },
  {
   "cell_type": "code",
   "execution_count": 133,
   "id": "61dfc375",
   "metadata": {},
   "outputs": [
    {
     "data": {
      "text/plain": [
       "(1877884, 13)"
      ]
     },
     "execution_count": 133,
     "metadata": {},
     "output_type": "execute_result"
    }
   ],
   "source": [
    "df.shape"
   ]
  },
  {
   "cell_type": "markdown",
   "id": "f656a353",
   "metadata": {},
   "source": [
    "### 13.5.4 Найти среднюю длину поездок в минутах(столбец tripduration) c точностью до 2 знака"
   ]
  },
  {
   "cell_type": "code",
   "execution_count": 134,
   "id": "7b29c28f",
   "metadata": {},
   "outputs": [
    {
     "data": {
      "text/plain": [
       "16.13"
      ]
     },
     "execution_count": 134,
     "metadata": {},
     "output_type": "execute_result"
    }
   ],
   "source": [
    "round(df[\"tripduration\"].mean()/60,2)"
   ]
  },
  {
   "cell_type": "markdown",
   "id": "ba69e54e",
   "metadata": {},
   "source": [
    "### 13.5.5 Сколько поездок начались и закончились в той же самой станции?"
   ]
  },
  {
   "cell_type": "code",
   "execution_count": 135,
   "id": "42b66af3",
   "metadata": {
    "scrolled": true
   },
   "outputs": [
    {
     "data": {
      "text/plain": [
       "41364"
      ]
     },
     "execution_count": 135,
     "metadata": {},
     "output_type": "execute_result"
    }
   ],
   "source": [
    "df[df[\"start station name\"]==df[\"end station name\"]].shape[0]"
   ]
  },
  {
   "cell_type": "markdown",
   "id": "1576516a",
   "metadata": {},
   "source": [
    "### 13.5.6 Какой самый используемый байк(bikeid) в городе по количеству поездок?"
   ]
  },
  {
   "cell_type": "code",
   "execution_count": 136,
   "id": "fe4471d3",
   "metadata": {
    "scrolled": true
   },
   "outputs": [
    {
     "data": {
      "text/plain": [
       "10105    33875\n",
       "Name: bikeid, dtype: int64"
      ]
     },
     "execution_count": 136,
     "metadata": {},
     "output_type": "execute_result"
    }
   ],
   "source": [
    "df.groupby([\"bikeid\"], as_index=False).count().sort_values(\"tripduration\", ascending=False)[\"bikeid\"].head(n=1)"
   ]
  },
  {
   "cell_type": "markdown",
   "id": "bab30bd0",
   "metadata": {},
   "source": [
    "### 13.5.7 Найдите идентификатор велосипеда (bikeid), у которого в среднем продолжительность поездок выше, чем у всех остальных"
   ]
  },
  {
   "cell_type": "code",
   "execution_count": 137,
   "id": "a68a4952",
   "metadata": {
    "scrolled": false
   },
   "outputs": [
    {
     "data": {
      "text/plain": [
       "1840    17548\n",
       "Name: bikeid, dtype: int64"
      ]
     },
     "execution_count": 137,
     "metadata": {},
     "output_type": "execute_result"
    }
   ],
   "source": [
    "df.groupby([\"bikeid\"], as_index=False).mean().sort_values(\"tripduration\", ascending=False).head(n=1)[\"bikeid\"]"
   ]
  },
  {
   "cell_type": "markdown",
   "id": "1e6df221",
   "metadata": {},
   "source": [
    "### 13.5.8 Сколько строк, в которых отсутствуют данные о start station id?"
   ]
  },
  {
   "cell_type": "code",
   "execution_count": 138,
   "id": "178bd9db",
   "metadata": {},
   "outputs": [
    {
     "data": {
      "text/plain": [
       "716"
      ]
     },
     "execution_count": 138,
     "metadata": {},
     "output_type": "execute_result"
    }
   ],
   "source": [
    "df[df[\"start station id\"].isnull()][\"bikeid\"].count()"
   ]
  },
  {
   "cell_type": "markdown",
   "id": "8e573f9d",
   "metadata": {},
   "source": [
    "### 13.5.9 Какова средняя продолжительность поездки в минутах в зависимости от типа подписки c точностью до 2 знака?"
   ]
  },
  {
   "cell_type": "code",
   "execution_count": 139,
   "id": "f5381fde",
   "metadata": {},
   "outputs": [
    {
     "data": {
      "text/html": [
       "<div>\n",
       "<style scoped>\n",
       "    .dataframe tbody tr th:only-of-type {\n",
       "        vertical-align: middle;\n",
       "    }\n",
       "\n",
       "    .dataframe tbody tr th {\n",
       "        vertical-align: top;\n",
       "    }\n",
       "\n",
       "    .dataframe thead th {\n",
       "        text-align: right;\n",
       "    }\n",
       "</style>\n",
       "<table border=\"1\" class=\"dataframe\">\n",
       "  <thead>\n",
       "    <tr style=\"text-align: right;\">\n",
       "      <th></th>\n",
       "      <th>usertype</th>\n",
       "      <th>tripduration</th>\n",
       "    </tr>\n",
       "  </thead>\n",
       "  <tbody>\n",
       "    <tr>\n",
       "      <th>0</th>\n",
       "      <td>Customer</td>\n",
       "      <td>33.42</td>\n",
       "    </tr>\n",
       "    <tr>\n",
       "      <th>1</th>\n",
       "      <td>Subscriber</td>\n",
       "      <td>13.33</td>\n",
       "    </tr>\n",
       "  </tbody>\n",
       "</table>\n",
       "</div>"
      ],
      "text/plain": [
       "     usertype  tripduration\n",
       "0    Customer         33.42\n",
       "1  Subscriber         13.33"
      ]
     },
     "execution_count": 139,
     "metadata": {},
     "output_type": "execute_result"
    }
   ],
   "source": [
    "result = df.groupby([\"usertype\"], as_index=False).mean()[[\"usertype\", \"tripduration\"]]\n",
    "result[\"tripduration\"] = round(result[\"tripduration\"]/60, 2)\n",
    "result"
   ]
  },
  {
   "cell_type": "markdown",
   "id": "77f90bb6",
   "metadata": {},
   "source": [
    "### 13.5.10 Найдите среднюю длину поездок в километрах с точностью до 2 знака, предварительно выкинув замкнутые траектории(те у которых совпадают start station id = end station id).\n",
    "\n",
    "Hint: можно воспользоваться библиотекой geopy и взять расстояние vincenty(минимальное расстояние между точками)"
   ]
  },
  {
   "cell_type": "code",
   "execution_count": 140,
   "id": "a6cbbf19",
   "metadata": {
    "scrolled": false
   },
   "outputs": [],
   "source": [
    "trips = df[df[\"start station id\"] != df[\"end station id\"]]"
   ]
  },
  {
   "cell_type": "code",
   "execution_count": 141,
   "id": "0ad320b1",
   "metadata": {},
   "outputs": [
    {
     "data": {
      "text/plain": [
       "1.85"
      ]
     },
     "execution_count": 141,
     "metadata": {},
     "output_type": "execute_result"
    }
   ],
   "source": [
    "def get_distance(row):\n",
    "    start_point = (row[\"start station latitude\"], row[\"start station longitude\"])\n",
    "    finish_point = (row[\"end station latitude\"], row[\"end station longitude\"])\n",
    "    return geopy.distance.distance(start_point, finish_point).km\n",
    "\n",
    "round(trips.apply(get_distance, axis=1).mean(),2) #very slow solution"
   ]
  },
  {
   "cell_type": "markdown",
   "id": "4d0e52e9",
   "metadata": {},
   "source": [
    "### 13.5.11 Выберите станцию (start station id) с максимальным количеством отправлений с 18 до 20 вечера включительно"
   ]
  },
  {
   "cell_type": "code",
   "execution_count": 144,
   "id": "99531ed5",
   "metadata": {
    "scrolled": true
   },
   "outputs": [
    {
     "data": {
      "text/plain": [
       "250    519\n",
       "Name: start station id, dtype: int64"
      ]
     },
     "execution_count": 144,
     "metadata": {},
     "output_type": "execute_result"
    }
   ],
   "source": [
    "df.set_index(keys=['starttime'],inplace=True)\n",
    "df.between_time(\"18:00\", \"20:00\").groupby(\"start station id\",as_index=False).count().sort_values(\"tripduration\",ascending=False)[\"start station id\"].head(1)"
   ]
  },
  {
   "cell_type": "markdown",
   "id": "0aeb80cc",
   "metadata": {},
   "source": [
    "### 13.5.12 Выберите идентификаторы станций(end station id), в которые приезжают с 6 до 10 утра включительно"
   ]
  },
  {
   "cell_type": "code",
   "execution_count": 145,
   "id": "6e5b9b9d",
   "metadata": {},
   "outputs": [
    {
     "data": {
      "text/plain": [
       "{369, 3106, 3116, 3140}"
      ]
     },
     "execution_count": 145,
     "metadata": {},
     "output_type": "execute_result"
    }
   ],
   "source": [
    "df.set_index(keys='stoptime',inplace=True)\n",
    "target_stations = {3116,3106,3140,369}\n",
    "found_stations = df.between_time(\"6:00\", \"10:00\")[\"end station id\"].unique()\n",
    "target_stations.intersection(set(found_stations))"
   ]
  },
  {
   "cell_type": "code",
   "execution_count": null,
   "id": "c04c72c0",
   "metadata": {},
   "outputs": [],
   "source": []
  }
 ],
 "metadata": {
  "kernelspec": {
   "display_name": "Python 3 (ipykernel)",
   "language": "python",
   "name": "python3"
  },
  "language_info": {
   "codemirror_mode": {
    "name": "ipython",
    "version": 3
   },
   "file_extension": ".py",
   "mimetype": "text/x-python",
   "name": "python",
   "nbconvert_exporter": "python",
   "pygments_lexer": "ipython3",
   "version": "3.8.12"
  }
 },
 "nbformat": 4,
 "nbformat_minor": 5
}
