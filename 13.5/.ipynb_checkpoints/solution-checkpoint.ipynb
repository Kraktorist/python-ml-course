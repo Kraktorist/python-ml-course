{
 "cells": [
  {
   "cell_type": "code",
   "execution_count": 12,
   "id": "1821602a",
   "metadata": {},
   "outputs": [],
   "source": [
    "import pandas as pd\n",
    "import geopy.distance"
   ]
  },
  {
   "cell_type": "code",
   "execution_count": 4,
   "id": "df0dd32d",
   "metadata": {},
   "outputs": [],
   "source": [
    "df = pd.read_csv(\"201809-citibike-tripdata.csv\")\n",
    "pd.set_option('display.max_rows', None)"
   ]
  },
  {
   "cell_type": "markdown",
   "id": "38720890",
   "metadata": {},
   "source": [
    "### 13.5.3 Найти общее количество строк и столбцов в датасете - указать первым число строк, вторым - число столбцов"
   ]
  },
  {
   "cell_type": "code",
   "execution_count": 6,
   "id": "61dfc375",
   "metadata": {},
   "outputs": [
    {
     "data": {
      "text/plain": [
       "(1877884, 15)"
      ]
     },
     "execution_count": 6,
     "metadata": {},
     "output_type": "execute_result"
    }
   ],
   "source": [
    "df.shape"
   ]
  },
  {
   "cell_type": "markdown",
   "id": "f656a353",
   "metadata": {},
   "source": [
    "### 13.5.4 Найти среднюю длину поездок в минутах(столбец tripduration) c точностью до 2 знака"
   ]
  },
  {
   "cell_type": "code",
   "execution_count": 10,
   "id": "7b29c28f",
   "metadata": {},
   "outputs": [
    {
     "data": {
      "text/plain": [
       "16.13"
      ]
     },
     "execution_count": 10,
     "metadata": {},
     "output_type": "execute_result"
    }
   ],
   "source": [
    "round(df[\"tripduration\"].mean()/60,2)"
   ]
  },
  {
   "cell_type": "markdown",
   "id": "ba69e54e",
   "metadata": {},
   "source": [
    "### 13.5.5 Сколько поездок начались и закончились в той же самой станции?"
   ]
  },
  {
   "cell_type": "code",
   "execution_count": 15,
   "id": "42b66af3",
   "metadata": {
    "scrolled": true
   },
   "outputs": [
    {
     "data": {
      "text/plain": [
       "41364"
      ]
     },
     "execution_count": 15,
     "metadata": {},
     "output_type": "execute_result"
    }
   ],
   "source": [
    "df[df[\"start station name\"]==df[\"end station name\"]].shape[0]"
   ]
  },
  {
   "cell_type": "markdown",
   "id": "1576516a",
   "metadata": {},
   "source": [
    "### 13.5.6 Какой самый используемый байк(bikeid) в городе по количеству поездок?"
   ]
  },
  {
   "cell_type": "code",
   "execution_count": 86,
   "id": "fe4471d3",
   "metadata": {
    "scrolled": true
   },
   "outputs": [
    {
     "data": {
      "text/plain": [
       "10105    33875\n",
       "Name: bikeid, dtype: int64"
      ]
     },
     "execution_count": 86,
     "metadata": {},
     "output_type": "execute_result"
    }
   ],
   "source": [
    "df.groupby([\"bikeid\"], as_index=False).count().sort_values(\"tripduration\", ascending=False)[\"bikeid\"].head(n=1)"
   ]
  },
  {
   "cell_type": "markdown",
   "id": "bab30bd0",
   "metadata": {},
   "source": [
    "### 13.5.7 Найдите идентификатор велосипеда (bikeid), у которого в среднем продолжительность поездок выше, чем у всех остальных"
   ]
  },
  {
   "cell_type": "code",
   "execution_count": 112,
   "id": "a68a4952",
   "metadata": {
    "scrolled": false
   },
   "outputs": [
    {
     "data": {
      "text/plain": [
       "1840    17548\n",
       "Name: bikeid, dtype: int64"
      ]
     },
     "execution_count": 112,
     "metadata": {},
     "output_type": "execute_result"
    }
   ],
   "source": [
    "df.groupby([\"bikeid\"], as_index=False).mean().sort_values(\"tripduration\", ascending=False).head(n=1)[\"bikeid\"]"
   ]
  },
  {
   "cell_type": "markdown",
   "id": "1e6df221",
   "metadata": {},
   "source": [
    "### 13.5.8 Сколько строк, в которых отсутствуют данные о start station id?"
   ]
  },
  {
   "cell_type": "code",
   "execution_count": 102,
   "id": "178bd9db",
   "metadata": {},
   "outputs": [
    {
     "data": {
      "text/plain": [
       "716"
      ]
     },
     "execution_count": 102,
     "metadata": {},
     "output_type": "execute_result"
    }
   ],
   "source": [
    "df[df[\"start station id\"].isnull()][\"bikeid\"].count()"
   ]
  },
  {
   "cell_type": "markdown",
   "id": "8e573f9d",
   "metadata": {},
   "source": [
    "### 13.5.9 Какова средняя продолжительность поездки в минутах в зависимости от типа подписки c точностью до 2 знака?"
   ]
  },
  {
   "cell_type": "code",
   "execution_count": 111,
   "id": "f5381fde",
   "metadata": {},
   "outputs": [
    {
     "data": {
      "text/html": [
       "<div>\n",
       "<style scoped>\n",
       "    .dataframe tbody tr th:only-of-type {\n",
       "        vertical-align: middle;\n",
       "    }\n",
       "\n",
       "    .dataframe tbody tr th {\n",
       "        vertical-align: top;\n",
       "    }\n",
       "\n",
       "    .dataframe thead th {\n",
       "        text-align: right;\n",
       "    }\n",
       "</style>\n",
       "<table border=\"1\" class=\"dataframe\">\n",
       "  <thead>\n",
       "    <tr style=\"text-align: right;\">\n",
       "      <th></th>\n",
       "      <th>usertype</th>\n",
       "      <th>tripduration</th>\n",
       "    </tr>\n",
       "  </thead>\n",
       "  <tbody>\n",
       "    <tr>\n",
       "      <th>0</th>\n",
       "      <td>Customer</td>\n",
       "      <td>33.42</td>\n",
       "    </tr>\n",
       "    <tr>\n",
       "      <th>1</th>\n",
       "      <td>Subscriber</td>\n",
       "      <td>13.33</td>\n",
       "    </tr>\n",
       "  </tbody>\n",
       "</table>\n",
       "</div>"
      ],
      "text/plain": [
       "     usertype  tripduration\n",
       "0    Customer         33.42\n",
       "1  Subscriber         13.33"
      ]
     },
     "execution_count": 111,
     "metadata": {},
     "output_type": "execute_result"
    }
   ],
   "source": [
    "result = df.groupby([\"usertype\"], as_index=False).mean()[[\"usertype\", \"tripduration\"]]\n",
    "result[\"tripduration\"] = round(result[\"tripduration\"]/60, 2)\n",
    "result"
   ]
  },
  {
   "cell_type": "markdown",
   "id": "77f90bb6",
   "metadata": {},
   "source": [
    "### 13.5.10 Найдите среднюю длину поездок в километрах с точностью до 2 знака, предварительно выкинув замкнутые траектории(те у которых совпадают start station id = end station id).\n",
    "\n",
    "Hint: можно воспользоваться библиотекой geopy и взять расстояние vincenty(минимальное расстояние между точками)"
   ]
  },
  {
   "cell_type": "code",
   "execution_count": 18,
   "id": "a6cbbf19",
   "metadata": {
    "scrolled": false
   },
   "outputs": [],
   "source": [
    "trips = df[df[\"start station id\"] != df[\"end station id\"]]"
   ]
  },
  {
   "cell_type": "code",
   "execution_count": 29,
   "id": "0ad320b1",
   "metadata": {},
   "outputs": [
    {
     "data": {
      "text/plain": [
       "1.85"
      ]
     },
     "execution_count": 29,
     "metadata": {},
     "output_type": "execute_result"
    }
   ],
   "source": [
    "def get_distance(row):\n",
    "    start_point = (row[\"start station latitude\"], row[\"start station longitude\"])\n",
    "    finish_point = (row[\"end station latitude\"], row[\"end station longitude\"])\n",
    "    return geopy.distance.distance(start_point, finish_point).km\n",
    "\n",
    "round(trips.apply(get_distance, axis=1).mean(),2) #very slow solution"
   ]
  },
  {
   "cell_type": "markdown",
   "id": "4d0e52e9",
   "metadata": {},
   "source": [
    "### 13.5.11 Выберите станцию (start station id) с максимальным количеством отправлений с 18 до 20 вечера включительно"
   ]
  },
  {
   "cell_type": "code",
   "execution_count": 30,
   "id": "99531ed5",
   "metadata": {
    "scrolled": true
   },
   "outputs": [
    {
     "data": {
      "text/html": [
       "<div>\n",
       "<style scoped>\n",
       "    .dataframe tbody tr th:only-of-type {\n",
       "        vertical-align: middle;\n",
       "    }\n",
       "\n",
       "    .dataframe tbody tr th {\n",
       "        vertical-align: top;\n",
       "    }\n",
       "\n",
       "    .dataframe thead th {\n",
       "        text-align: right;\n",
       "    }\n",
       "</style>\n",
       "<table border=\"1\" class=\"dataframe\">\n",
       "  <thead>\n",
       "    <tr style=\"text-align: right;\">\n",
       "      <th></th>\n",
       "      <th>tripduration</th>\n",
       "      <th>starttime</th>\n",
       "      <th>stoptime</th>\n",
       "      <th>start station id</th>\n",
       "      <th>start station name</th>\n",
       "      <th>start station latitude</th>\n",
       "      <th>start station longitude</th>\n",
       "      <th>end station id</th>\n",
       "      <th>end station name</th>\n",
       "      <th>end station latitude</th>\n",
       "      <th>end station longitude</th>\n",
       "      <th>bikeid</th>\n",
       "      <th>usertype</th>\n",
       "      <th>birth year</th>\n",
       "      <th>gender</th>\n",
       "    </tr>\n",
       "  </thead>\n",
       "  <tbody>\n",
       "    <tr>\n",
       "      <th>0</th>\n",
       "      <td>1635</td>\n",
       "      <td>2018-09-01 00:00:05.2690</td>\n",
       "      <td>2018-09-01 00:27:20.6340</td>\n",
       "      <td>252.0</td>\n",
       "      <td>MacDougal St &amp; Washington Sq</td>\n",
       "      <td>40.732264</td>\n",
       "      <td>-73.998522</td>\n",
       "      <td>366.0</td>\n",
       "      <td>Clinton Ave &amp; Myrtle Ave</td>\n",
       "      <td>40.693261</td>\n",
       "      <td>-73.968896</td>\n",
       "      <td>25577</td>\n",
       "      <td>Subscriber</td>\n",
       "      <td>1980</td>\n",
       "      <td>1</td>\n",
       "    </tr>\n",
       "    <tr>\n",
       "      <th>1</th>\n",
       "      <td>132</td>\n",
       "      <td>2018-09-01 00:00:11.2810</td>\n",
       "      <td>2018-09-01 00:02:23.4810</td>\n",
       "      <td>314.0</td>\n",
       "      <td>Cadman Plaza West &amp; Montague St</td>\n",
       "      <td>40.693830</td>\n",
       "      <td>-73.990539</td>\n",
       "      <td>3242.0</td>\n",
       "      <td>Schermerhorn St &amp; Court St</td>\n",
       "      <td>40.691029</td>\n",
       "      <td>-73.991834</td>\n",
       "      <td>34377</td>\n",
       "      <td>Subscriber</td>\n",
       "      <td>1969</td>\n",
       "      <td>0</td>\n",
       "    </tr>\n",
       "    <tr>\n",
       "      <th>2</th>\n",
       "      <td>3337</td>\n",
       "      <td>2018-09-01 00:00:20.6490</td>\n",
       "      <td>2018-09-01 00:55:58.5470</td>\n",
       "      <td>3142.0</td>\n",
       "      <td>1 Ave &amp; E 62 St</td>\n",
       "      <td>40.761227</td>\n",
       "      <td>-73.960940</td>\n",
       "      <td>3384.0</td>\n",
       "      <td>Smith St &amp; 3 St</td>\n",
       "      <td>40.678724</td>\n",
       "      <td>-73.995991</td>\n",
       "      <td>30496</td>\n",
       "      <td>Subscriber</td>\n",
       "      <td>1975</td>\n",
       "      <td>1</td>\n",
       "    </tr>\n",
       "    <tr>\n",
       "      <th>3</th>\n",
       "      <td>436</td>\n",
       "      <td>2018-09-01 00:00:21.7460</td>\n",
       "      <td>2018-09-01 00:07:38.5830</td>\n",
       "      <td>308.0</td>\n",
       "      <td>St James Pl &amp; Oliver St</td>\n",
       "      <td>40.713079</td>\n",
       "      <td>-73.998512</td>\n",
       "      <td>3690.0</td>\n",
       "      <td>Park Pl &amp; Church St</td>\n",
       "      <td>40.713342</td>\n",
       "      <td>-74.009355</td>\n",
       "      <td>28866</td>\n",
       "      <td>Subscriber</td>\n",
       "      <td>1984</td>\n",
       "      <td>2</td>\n",
       "    </tr>\n",
       "    <tr>\n",
       "      <th>4</th>\n",
       "      <td>8457</td>\n",
       "      <td>2018-09-01 00:00:27.3150</td>\n",
       "      <td>2018-09-01 02:21:25.3080</td>\n",
       "      <td>345.0</td>\n",
       "      <td>W 13 St &amp; 6 Ave</td>\n",
       "      <td>40.736494</td>\n",
       "      <td>-73.997044</td>\n",
       "      <td>380.0</td>\n",
       "      <td>W 4 St &amp; 7 Ave S</td>\n",
       "      <td>40.734011</td>\n",
       "      <td>-74.002939</td>\n",
       "      <td>20943</td>\n",
       "      <td>Customer</td>\n",
       "      <td>1994</td>\n",
       "      <td>1</td>\n",
       "    </tr>\n",
       "    <tr>\n",
       "      <th>...</th>\n",
       "      <td>...</td>\n",
       "      <td>...</td>\n",
       "      <td>...</td>\n",
       "      <td>...</td>\n",
       "      <td>...</td>\n",
       "      <td>...</td>\n",
       "      <td>...</td>\n",
       "      <td>...</td>\n",
       "      <td>...</td>\n",
       "      <td>...</td>\n",
       "      <td>...</td>\n",
       "      <td>...</td>\n",
       "      <td>...</td>\n",
       "      <td>...</td>\n",
       "      <td>...</td>\n",
       "    </tr>\n",
       "    <tr>\n",
       "      <th>1877879</th>\n",
       "      <td>369</td>\n",
       "      <td>2018-09-30 00:27:25.9840</td>\n",
       "      <td>2018-09-30 00:33:35.7070</td>\n",
       "      <td>3601.0</td>\n",
       "      <td>Sterling St &amp; Bedford Ave</td>\n",
       "      <td>40.662706</td>\n",
       "      <td>-73.956912</td>\n",
       "      <td>3631.0</td>\n",
       "      <td>Crown St &amp; Bedford Ave</td>\n",
       "      <td>40.666563</td>\n",
       "      <td>-73.956741</td>\n",
       "      <td>32976</td>\n",
       "      <td>Subscriber</td>\n",
       "      <td>1985</td>\n",
       "      <td>2</td>\n",
       "    </tr>\n",
       "    <tr>\n",
       "      <th>1877880</th>\n",
       "      <td>191</td>\n",
       "      <td>2018-09-30 00:30:30.1850</td>\n",
       "      <td>2018-09-30 00:33:42.1090</td>\n",
       "      <td>3601.0</td>\n",
       "      <td>Sterling St &amp; Bedford Ave</td>\n",
       "      <td>40.662706</td>\n",
       "      <td>-73.956912</td>\n",
       "      <td>3631.0</td>\n",
       "      <td>Crown St &amp; Bedford Ave</td>\n",
       "      <td>40.666563</td>\n",
       "      <td>-73.956741</td>\n",
       "      <td>15595</td>\n",
       "      <td>Subscriber</td>\n",
       "      <td>1985</td>\n",
       "      <td>2</td>\n",
       "    </tr>\n",
       "    <tr>\n",
       "      <th>1877881</th>\n",
       "      <td>1442</td>\n",
       "      <td>2018-09-30 08:10:03.1790</td>\n",
       "      <td>2018-09-30 08:34:05.3870</td>\n",
       "      <td>3601.0</td>\n",
       "      <td>Sterling St &amp; Bedford Ave</td>\n",
       "      <td>40.662706</td>\n",
       "      <td>-73.956912</td>\n",
       "      <td>471.0</td>\n",
       "      <td>Grand St &amp; Havemeyer St</td>\n",
       "      <td>40.712868</td>\n",
       "      <td>-73.956981</td>\n",
       "      <td>28646</td>\n",
       "      <td>Subscriber</td>\n",
       "      <td>1981</td>\n",
       "      <td>1</td>\n",
       "    </tr>\n",
       "    <tr>\n",
       "      <th>1877882</th>\n",
       "      <td>453</td>\n",
       "      <td>2018-09-30 12:20:13.6830</td>\n",
       "      <td>2018-09-30 12:27:46.9140</td>\n",
       "      <td>3601.0</td>\n",
       "      <td>Sterling St &amp; Bedford Ave</td>\n",
       "      <td>40.662706</td>\n",
       "      <td>-73.956912</td>\n",
       "      <td>3584.0</td>\n",
       "      <td>Eastern Pkwy &amp; Franklin Ave</td>\n",
       "      <td>40.670777</td>\n",
       "      <td>-73.957680</td>\n",
       "      <td>34272</td>\n",
       "      <td>Subscriber</td>\n",
       "      <td>1986</td>\n",
       "      <td>1</td>\n",
       "    </tr>\n",
       "    <tr>\n",
       "      <th>1877883</th>\n",
       "      <td>1354</td>\n",
       "      <td>2018-09-30 14:10:01.1620</td>\n",
       "      <td>2018-09-30 14:32:36.1280</td>\n",
       "      <td>3601.0</td>\n",
       "      <td>Sterling St &amp; Bedford Ave</td>\n",
       "      <td>40.662706</td>\n",
       "      <td>-73.956912</td>\n",
       "      <td>3321.0</td>\n",
       "      <td>Clinton St &amp; Union St</td>\n",
       "      <td>40.683116</td>\n",
       "      <td>-73.997853</td>\n",
       "      <td>26028</td>\n",
       "      <td>Subscriber</td>\n",
       "      <td>1981</td>\n",
       "      <td>1</td>\n",
       "    </tr>\n",
       "  </tbody>\n",
       "</table>\n",
       "<p>1877884 rows × 15 columns</p>\n",
       "</div>"
      ],
      "text/plain": [
       "         tripduration                 starttime                  stoptime  \\\n",
       "0                1635  2018-09-01 00:00:05.2690  2018-09-01 00:27:20.6340   \n",
       "1                 132  2018-09-01 00:00:11.2810  2018-09-01 00:02:23.4810   \n",
       "2                3337  2018-09-01 00:00:20.6490  2018-09-01 00:55:58.5470   \n",
       "3                 436  2018-09-01 00:00:21.7460  2018-09-01 00:07:38.5830   \n",
       "4                8457  2018-09-01 00:00:27.3150  2018-09-01 02:21:25.3080   \n",
       "...               ...                       ...                       ...   \n",
       "1877879           369  2018-09-30 00:27:25.9840  2018-09-30 00:33:35.7070   \n",
       "1877880           191  2018-09-30 00:30:30.1850  2018-09-30 00:33:42.1090   \n",
       "1877881          1442  2018-09-30 08:10:03.1790  2018-09-30 08:34:05.3870   \n",
       "1877882           453  2018-09-30 12:20:13.6830  2018-09-30 12:27:46.9140   \n",
       "1877883          1354  2018-09-30 14:10:01.1620  2018-09-30 14:32:36.1280   \n",
       "\n",
       "         start station id               start station name  \\\n",
       "0                   252.0     MacDougal St & Washington Sq   \n",
       "1                   314.0  Cadman Plaza West & Montague St   \n",
       "2                  3142.0                  1 Ave & E 62 St   \n",
       "3                   308.0          St James Pl & Oliver St   \n",
       "4                   345.0                  W 13 St & 6 Ave   \n",
       "...                   ...                              ...   \n",
       "1877879            3601.0        Sterling St & Bedford Ave   \n",
       "1877880            3601.0        Sterling St & Bedford Ave   \n",
       "1877881            3601.0        Sterling St & Bedford Ave   \n",
       "1877882            3601.0        Sterling St & Bedford Ave   \n",
       "1877883            3601.0        Sterling St & Bedford Ave   \n",
       "\n",
       "         start station latitude  start station longitude  end station id  \\\n",
       "0                     40.732264               -73.998522           366.0   \n",
       "1                     40.693830               -73.990539          3242.0   \n",
       "2                     40.761227               -73.960940          3384.0   \n",
       "3                     40.713079               -73.998512          3690.0   \n",
       "4                     40.736494               -73.997044           380.0   \n",
       "...                         ...                      ...             ...   \n",
       "1877879               40.662706               -73.956912          3631.0   \n",
       "1877880               40.662706               -73.956912          3631.0   \n",
       "1877881               40.662706               -73.956912           471.0   \n",
       "1877882               40.662706               -73.956912          3584.0   \n",
       "1877883               40.662706               -73.956912          3321.0   \n",
       "\n",
       "                    end station name  end station latitude  \\\n",
       "0           Clinton Ave & Myrtle Ave             40.693261   \n",
       "1         Schermerhorn St & Court St             40.691029   \n",
       "2                    Smith St & 3 St             40.678724   \n",
       "3                Park Pl & Church St             40.713342   \n",
       "4                   W 4 St & 7 Ave S             40.734011   \n",
       "...                              ...                   ...   \n",
       "1877879       Crown St & Bedford Ave             40.666563   \n",
       "1877880       Crown St & Bedford Ave             40.666563   \n",
       "1877881      Grand St & Havemeyer St             40.712868   \n",
       "1877882  Eastern Pkwy & Franklin Ave             40.670777   \n",
       "1877883        Clinton St & Union St             40.683116   \n",
       "\n",
       "         end station longitude  bikeid    usertype  birth year  gender  \n",
       "0                   -73.968896   25577  Subscriber        1980       1  \n",
       "1                   -73.991834   34377  Subscriber        1969       0  \n",
       "2                   -73.995991   30496  Subscriber        1975       1  \n",
       "3                   -74.009355   28866  Subscriber        1984       2  \n",
       "4                   -74.002939   20943    Customer        1994       1  \n",
       "...                        ...     ...         ...         ...     ...  \n",
       "1877879             -73.956741   32976  Subscriber        1985       2  \n",
       "1877880             -73.956741   15595  Subscriber        1985       2  \n",
       "1877881             -73.956981   28646  Subscriber        1981       1  \n",
       "1877882             -73.957680   34272  Subscriber        1986       1  \n",
       "1877883             -73.997853   26028  Subscriber        1981       1  \n",
       "\n",
       "[1877884 rows x 15 columns]"
      ]
     },
     "execution_count": 30,
     "metadata": {},
     "output_type": "execute_result"
    }
   ],
   "source": [
    "# convert columns to time\n",
    "# filter by time range\n",
    "# group by station id\n",
    "# get max value\n",
    "\n"
   ]
  }
 ],
 "metadata": {
  "kernelspec": {
   "display_name": "Python 3 (ipykernel)",
   "language": "python",
   "name": "python3"
  },
  "language_info": {
   "codemirror_mode": {
    "name": "ipython",
    "version": 3
   },
   "file_extension": ".py",
   "mimetype": "text/x-python",
   "name": "python",
   "nbconvert_exporter": "python",
   "pygments_lexer": "ipython3",
   "version": "3.8.12"
  }
 },
 "nbformat": 4,
 "nbformat_minor": 5
}
